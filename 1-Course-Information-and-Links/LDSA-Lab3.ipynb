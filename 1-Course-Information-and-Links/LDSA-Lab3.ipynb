{
 "cells": [
  {
   "cell_type": "markdown",
   "metadata": {},
   "source": [
    "#Large Datasets for Scientific Applications: Computer Lab 3 \n",
    "\n",
    "The objective of this lab is to gain familiarity with the Apache Spark (‘Spark’, from now on) framework. To pass the lab (and thus gain 1 point) you need to complete and present part I and part II. Students who wish to try for 2 points should also hand in part III. All work will be done via the Interactive Python Notebook interface for Spark (except for the streaming session). Note that the data sets used in these exercises are small (sometimes very small), to save time getting as much experience as possible with Spark programming environment within the limited time frame of the exercises. \n",
    "\n",
    "Under the “1-Course-Information-and-Links” folder you’ll find help to run the notebooks and links to more information on Spark.\n",
    "\n",
    "The exercises are based from AMP Camps and Spark Summit training sessions, adjusted to IPyNB. In later versions we'll increase our own material.\n",
    "\n",
    "For the interested student, please go to http://ampcamp.berkeley.edu/5/exercises/ (or start at http://ampcamp.berkeley.edu/, to be sure you're looking at the latest exercises) and try it out. You can run most of the AMP Camp code (after some downloading and adjustments) from your own environment. \n",
    "\n",
    "One important additon in these exercises is the introduction of using **Scala** for Spark. Scala is the primary language for Spark with benefits in efficiency and completeness (many more exercises available in Scala) compared to using Python and Java on Spark. As mentioned at the seminar, Spark is written in Scala.\n",
    "\n",
    "##Structure of the notebooks\n",
    "\n",
    " * 1-Course-Information-and-Links\n",
    " * Part I: Spark Basics\n",
    "  * 2-Introduction-to-Spark\n",
    "   * 2-1-Base-Examples.ipynb\n",
    "    * Exercises: 1, 2\n",
    "   * 2-2-Basics-WordCount.ipynb\n",
    "   * 2-3-WordCount.ipynb\n",
    " * Part II: Spark SQL and MLlib\n",
    "  * 3-Spark-SQL-and-Dataframes\n",
    "   * 3-1-Introduction-to-Spark-SQL.ipynb\n",
    "   * 3-2-Introduction-to-Dataframes.ipynb\n",
    "  * 4-Spark-Internals\n",
    "   * 4-1-Spark-Internals.ipynb\n",
    " * Part III: Spark Streaming and Internals\n",
    "  * 5-Spark-Streaming\n",
    "   * 5-1-Introduction-to-Spark-Streaming.ipynb\n",
    "  * 6-MLlib-Example\n",
    "   * 6-1-Movie-Recommendation-with-MLlib.ipynb\n",
    " * Appendix\n",
    "  * 7-Solutions-to-exercises\n",
    "\n",
    "\n",
    "Walk through the code in each notebook; try your own changes and data (if you have time for it). \n",
    "\n",
    "##About the exercises:\n",
    "\n",
    "Don't spend more than 5 min per exercise in Part I and II. Look at the ‘Solution pages’ for this notebook when ready (or after 5 min).\n",
    "\n",
    "##About Part III\n",
    "\n",
    "These take more time, but shouldn't be too hard to do. The challenge is to try new things based on these (esp. 4-1).\n",
    "\n",
    "\n",
    "## Where to go next, Links\n",
    "\n",
    "Updated links are found in 'Where to Go from Here' at http://spark.apache.org/docs/latest/index.html\n",
    "\n",
    "Recommended books: \n",
    "\n",
    "| Learning Spark| Advanced Spark| \n",
    "| -------- | -------- |\n",
    "| ![Learning Spark][learningspark] | ![Advanced Spark][advancedspark]|\n",
    "\n",
    "[learningspark]: images/LearningSpark.jpeg \"Learning Spark\"\n",
    "[advancedspark]: images/AdvancedAnalyticsWithSpark.jpeg \"Advanced Analytics with Spark\"\n",
    "\n"
   ]
  },
  {
   "cell_type": "raw",
   "metadata": {
    "collapsed": true
   },
   "source": [
    "Credit: Material based on AMPCamp and Databricks training material provided online under a Creative Commons Attribution-NonCommercial-NoDerivatives 4.0 International (CC BY-NC-ND 4.0) license."
   ]
  }
 ],
 "metadata": {
  "kernelspec": {
   "display_name": "Python 2",
   "language": "python",
   "name": "python2"
  },
  "language_info": {
   "codemirror_mode": {
    "name": "ipython",
    "version": 2
   },
   "file_extension": ".py",
   "mimetype": "text/x-python",
   "name": "python",
   "nbconvert_exporter": "python",
   "pygments_lexer": "ipython2",
   "version": "2.7.6"
  }
 },
 "nbformat": 4,
 "nbformat_minor": 0
}
