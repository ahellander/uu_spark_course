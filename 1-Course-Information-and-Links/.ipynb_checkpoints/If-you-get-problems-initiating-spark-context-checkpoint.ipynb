{
 "cells": [
  {
   "cell_type": "markdown",
   "metadata": {},
   "source": [
    "#### Initiate Spark Context - ONLY first time for each notebook\n",
    "\n",
    "Most common errors that happen when you do below:"
   ]
  },
  {
   "cell_type": "raw",
   "metadata": {},
   "source": [
    "import os\n",
    "from pyspark import SparkContext\n",
    "sc = SparkContext(appName=\"search\", master=os.environ['MASTER'])"
   ]
  },
  {
   "cell_type": "markdown",
   "metadata": {},
   "source": [
    "1) When you run the 'sc = SparkContext(...' cell above, you should see '[*]' for some seconds. If it takes longer it is an error.\n",
    "\n",
    "Try this:\n",
    "- Restart the kernel (use above 'reload' button, or click on 'Kernel' above and restart), and try again.\n",
    "- If that doesn't help, go back to top page (click on the 'jupyter' logo in upper left corner) and restart your notebook. Go back to the notebook and try again.\n",
    "\n",
    "2) If you get an error message (usually long text), the most common reason is that you already have a spark context initiated (only one per notebook). \n",
    "\n",
    "Try this:\n",
    "- Ignore and continue to the next step. If there are no more complaints when you use 'sc', it means that it was already initiated.\n",
    "- Restart the kernel (use above 'reload' button, or click on 'Kernel' above and restart).\n",
    "\n",
    "If you get more errors, ask for help."
   ]
  }
 ],
 "metadata": {
  "kernelspec": {
   "display_name": "Python 2",
   "language": "python",
   "name": "python2"
  },
  "language_info": {
   "codemirror_mode": {
    "name": "ipython",
    "version": 2
   },
   "file_extension": ".py",
   "mimetype": "text/x-python",
   "name": "python",
   "nbconvert_exporter": "python",
   "pygments_lexer": "ipython2",
   "version": "2.7.6"
  }
 },
 "nbformat": 4,
 "nbformat_minor": 0
}
